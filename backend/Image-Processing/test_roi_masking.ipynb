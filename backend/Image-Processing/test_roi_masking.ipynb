{
 "cells": [
  {
   "cell_type": "code",
   "execution_count": 1,
   "metadata": {},
   "outputs": [],
   "source": [
    "import cv2\n",
    "import numpy as np\n",
    "import pandas as pd\n",
    "import ast\n",
    "from glob import glob\n",
    "# import matplotlib.pyplot as plt"
   ]
  },
  {
   "cell_type": "code",
   "execution_count": 42,
   "metadata": {},
   "outputs": [],
   "source": [
    "df = pd.read_csv('Image_ROI.csv')"
   ]
  },
  {
   "cell_type": "code",
   "execution_count": 43,
   "metadata": {},
   "outputs": [],
   "source": [
    "images = r\".\\images\\2022_01_05_21_10\\*\"\n",
    "img_paths = glob(images)"
   ]
  },
  {
   "cell_type": "code",
   "execution_count": 44,
   "metadata": {},
   "outputs": [],
   "source": [
    "def display_image(img_name, img):\n",
    "    cv2.namedWindow(img_name, cv2.WINDOW_NORMAL) # fit image to window\n",
    "    cv2.imshow(img_name, img)\n",
    "    cv2.waitKey()\n",
    "    cv2.destroyAllWindows()"
   ]
  },
  {
   "cell_type": "code",
   "execution_count": 45,
   "metadata": {},
   "outputs": [],
   "source": [
    "def roi(img, coords):\n",
    "    x = int(img.shape[1])\n",
    "    y = int(img.shape[0])\n",
    "    if len(coords) < 4:\n",
    "        print('minimum 4 coordinates required')\n",
    "        return\n",
    "    shape = np.array(coords) # shape of roi\n",
    "    mask = np.zeros_like(img) # np array with zeros (of image dimension)\n",
    "\n",
    "    # creates a polygon with the mask colour (blue), areas not in roi would be black (pixel is 0)\n",
    "    cv2.fillPoly(mask, pts=np.int32([shape]), color=(255,255,255))\n",
    "\n",
    "    # select ares where mask pixels are not zero\n",
    "    masked_image = cv2.bitwise_and(img, mask)\n",
    "    return masked_image"
   ]
  },
  {
   "cell_type": "code",
   "execution_count": 46,
   "metadata": {},
   "outputs": [],
   "source": [
    "for img_path in img_paths:\n",
    "    img = cv2.imread(img_path)\n",
    "    camera_id = int(img_path.split(\n",
    "                '\\\\')[-1].split('.')[0].split('_')[0])\n",
    "    if camera_id not in df['Camera_Id'].values:\n",
    "        continue\n",
    "    rows_df = df[df['Camera_Id'] == camera_id]\n",
    "    for i in range(0, len(rows_df)):\n",
    "        row = rows_df.iloc[i]\n",
    "        coords = ast.literal_eval(row['ROI'])\n",
    "        roi_img = roi(img, coords)\n",
    "        display_image('ROI Image', roi_img)"
   ]
  },
  {
   "cell_type": "code",
   "execution_count": null,
   "metadata": {},
   "outputs": [],
   "source": []
  }
 ],
 "metadata": {
  "kernelspec": {
   "display_name": "Python 3.10.6 64-bit",
   "language": "python",
   "name": "python3"
  },
  "language_info": {
   "codemirror_mode": {
    "name": "ipython",
    "version": 3
   },
   "file_extension": ".py",
   "mimetype": "text/x-python",
   "name": "python",
   "nbconvert_exporter": "python",
   "pygments_lexer": "ipython3",
   "version": "3.10.6"
  },
  "orig_nbformat": 4,
  "vscode": {
   "interpreter": {
    "hash": "05c181a2f892d70e2e4938953707a4601cdad30f805c5da25590eb6c9b5fe8b6"
   }
  }
 },
 "nbformat": 4,
 "nbformat_minor": 2
}
