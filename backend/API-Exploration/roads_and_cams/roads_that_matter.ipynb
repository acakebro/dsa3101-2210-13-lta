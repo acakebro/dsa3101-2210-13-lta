{
  "cells": [
    {
      "cell_type": "code",
      "execution_count": null,
      "metadata": {
        "colab": {
          "base_uri": "https://localhost:8080/"
        },
        "id": "xWb_uvvhdAPt",
        "outputId": "faadc910-b374-483c-ee2a-09aaf44a9534"
      },
      "outputs": [],
      "source": [
        "import glob\n",
        "import pandas as pd\n",
        "import folium #run pip install folium in terminal\n",
        "import pyarrow #run pip install pyarrow in terminal\n",
        "import folium\n",
        "from folium import plugins\n",
        "from branca.element import Figure"
      ]
    },
    {
      "cell_type": "code",
      "execution_count": null,
      "metadata": {
        "id": "_2q6IB5we71Q"
      },
      "outputs": [],
      "source": [
        "parent_directory = \"/Users/rebecca/roads_and_cams/\"\n",
        "df_speedbands = pd.read_csv(parent_directory + \"traffic_speedbands_no_dup.csv\")\n",
        "df_images = pd.read_csv(parent_directory + \"traffic_images_no_dup.csv\")\n",
        "df_incidents = pd.read_csv(parent_directory + \"traffic_incidents_no_dup.csv\")\n",
        "\n",
        "#latitude and longitude of SG\n",
        "sg_lat = 1.3521\n",
        "sg_lng = 103.8198"
      ]
    },
    {
      "cell_type": "code",
      "execution_count": null,
      "metadata": {
        "id": "6yXO9KyVf5wb"
      },
      "outputs": [],
      "source": [
        "import matplotlib.pyplot as plt\n",
        "import seaborn as sns #run pip install seaborn in terminal"
      ]
    },
    {
      "cell_type": "code",
      "execution_count": null,
      "metadata": {
        "colab": {
          "base_uri": "https://localhost:8080/",
          "height": 852
        },
        "id": "O5tW_Htcf_0I",
        "outputId": "bcb1885d-f018-4d45-ed25-e1b36045f5ca"
      },
      "outputs": [],
      "source": [
        "df_speedbands[['lat1', 'long1','lat2','long2']] = df_speedbands['Location'].str.split(' ', expand=True)\n",
        "df_speedbands.rename(columns={'Extract Time':'ExtractTime'}, inplace=True)\n",
        "df_speedbands"
      ]
    },
    {
      "cell_type": "code",
      "execution_count": null,
      "metadata": {
        "colab": {
          "base_uri": "https://localhost:8080/"
        },
        "id": "ZlxIg6a3hhvr",
        "outputId": "82bc5000-78a7-4e09-9b40-33ebb3a19aa1"
      },
      "outputs": [],
      "source": [
        "markers_one = df_speedbands[['lat1', 'long1']].to_numpy()\n",
        "#markers_one"
      ]
    },
    {
      "cell_type": "code",
      "execution_count": null,
      "metadata": {
        "colab": {
          "base_uri": "https://localhost:8080/",
          "height": 571
        },
        "id": "h-J-Tw4xhiAO",
        "outputId": "072d4356-d634-4ab8-d9c3-53500aaf1446"
      },
      "outputs": [],
      "source": [
        "#map of lat1 long1 speedbands\n",
        "\n",
        "# create new figure\n",
        "fig_one = Figure(height = 550, width = 750)\n",
        "\n",
        "# create new map\n",
        "map_one = folium.Map([sg_lat, sg_lng], zoom_start = 11,\n",
        "                             min_zoom = 8, max_zoom = 16)\n",
        "fig_one.add_child(map_one)\n",
        "\n",
        "# create heatmap and add to map\n",
        "plugins.HeatMap(markers_one, radius = 4, blur = 6).add_to(map_one)\n",
        "\n",
        "map_one"
      ]
    },
    {
      "cell_type": "code",
      "execution_count": null,
      "metadata": {},
      "outputs": [],
      "source": [
        "#df_images\n",
        "markers_cam = df_images[['Latitude', 'Longitude']].to_numpy()\n",
        "#markers_cam"
      ]
    },
    {
      "cell_type": "code",
      "execution_count": null,
      "metadata": {},
      "outputs": [],
      "source": [
        "# create new figure\n",
        "fig_two = Figure(height = 550, width = 750)\n",
        "\n",
        "# create new map\n",
        "map_two = folium.Map([sg_lat, sg_lng], zoom_start = 11,\n",
        "                             min_zoom = 8, max_zoom = 16)\n",
        "fig_two.add_child(map_two)\n",
        "\n",
        "# create circles and add to map\n",
        "for row in df_images.index:\n",
        "    folium.CircleMarker(location=[df_images[\"Latitude\"][row],df_images[\"Longitude\"][row]],\n",
        "                        radius=2,\n",
        "                        weight=5, tooltip= df_images[\"CameraID\"][row]).add_to(map_two)\n",
        "\n",
        "map_two"
      ]
    },
    {
      "cell_type": "code",
      "execution_count": null,
      "metadata": {},
      "outputs": [],
      "source": [
        "# function to get start and ending position of trajectory\n",
        "def get_start_end_pos(trj):\n",
        "  return (trj.iloc[0, :], trj.iloc[-1, :])"
      ]
    },
    {
      "cell_type": "code",
      "execution_count": null,
      "metadata": {},
      "outputs": [],
      "source": [
        "# create new figure\n",
        "fig_roads = Figure(height = 550, width = 750)\n",
        "\n",
        "# add map to figure\n",
        "m_roads = folium.Map(location = [sg_lat, sg_lng],\n",
        "                tiles = None, zoom_start = 11,\n",
        "                min_zoom = 11, max_zoom = 16)\n",
        "fig_roads.add_child(m_roads)\n",
        "\n",
        "folium.TileLayer('cartodbpositron', name='Road Categories').add_to(m_roads)\n",
        "\n",
        "def route(row):\n",
        "    route_start = row[[\"lat1\", \"long1\"]].rename(columns={\"lat1\": \"lat\", \"long1\": \"lng\"}).astype(float)\n",
        "    route_end = row[[\"lat2\", \"long2\"]].rename(columns={\"lat2\": \"lat\", \"long2\": \"lng\"}).astype(float)\n",
        "    route = pd.concat([route_start,route_end])\n",
        "    return route\n",
        "\n",
        "# Creating feature groups\n",
        "for grp_name, df_grp in df_speedbands.groupby('RoadCategory'):\n",
        "    feature_group = folium.FeatureGroup(grp_name)\n",
        "    for row in df_grp.itertuples():\n",
        "        row=pd.DataFrame.from_records([row], columns=row._fields)\n",
        "        #print(row.RoadName[0])\n",
        "        # Adding lines to the different feature groups\n",
        "        line_1 = folium.vector_layers.PolyLine(route(row),\n",
        "                                        popup = '<b>LinkID: </b>'+str(row.LinkID[0])+'<br><b>Road Category: </b>'+ row.RoadCategory[0] +'<br><b>Coordinates: </b>'+ row.Location[0],\n",
        "                                        tooltip = row.RoadName[0],\n",
        "                                        color = 'blue', weight = 1, opacity = 0.5).add_to(feature_group)          \n",
        "        # add ploylines to map\n",
        "        feature_group.add_to(m_roads)\n",
        "\n",
        "        # get start and end points of each trajectory\n",
        "        route_positions = get_start_end_pos(route(row))\n",
        "        '''\n",
        "        # add markers for trj 1\n",
        "        folium.Marker(\n",
        "            location = [route_positions[0][0], route_positions[0][1]],\n",
        "            popup = \"start point\",\n",
        "            icon = folium.Icon(color = \"green\"),\n",
        "        ).add_to(feature_group)\n",
        "\n",
        "        folium.Marker(\n",
        "            location = [route_positions[1][0], route_positions[1][1]],\n",
        "            popup = \"start point\",\n",
        "            icon = folium.Icon(color = \"red\"),\n",
        "        ).add_to(feature_group)\n",
        "        '''\n",
        "\n",
        "# add layer control to toggle layers\n",
        "folium.LayerControl().add_to(m_roads)\n",
        "fig_roads"
      ]
    },
    {
      "cell_type": "code",
      "execution_count": null,
      "metadata": {},
      "outputs": [],
      "source": [
        "#both cams and roads\n",
        "\n",
        "def route(row):\n",
        "    route_start = row[[\"lat1\", \"long1\"]].rename(columns={\"lat1\": \"lat\", \"long1\": \"lng\"}).astype(float)\n",
        "    route_end = row[[\"lat2\", \"long2\"]].rename(columns={\"lat2\": \"lat\", \"long2\": \"lng\"}).astype(float)\n",
        "    route = pd.concat([route_start,route_end])\n",
        "    return route\n",
        "\n",
        "import base64\n",
        "\n",
        "def cam_img(rowind):\n",
        "    index = len(\"https://dm-traffic-camera-itsc.s3.ap-southeast-1.amazonaws.com/\")\n",
        "    folder = df_images['ImageLink'][rowind][index:index+len(\"2022-10-08/08-50\")].replace(\"/\",\"_\").replace(\"-\",\"_\")\n",
        "    index = len(\"https://dm-traffic-camera-itsc.s3.ap-southeast-1.amazonaws.com/2022-10-08/08-50/\")\n",
        "    filename = df_images['ImageLink'][rowind][index:index+len(\"1001_0843_20221008085001_525510.jpg\")]\n",
        "    encoded = base64.b64encode(open(\"./images/\"+folder+\"/\"+filename, 'rb').read()).decode()\n",
        "    html = '<img src=\"data:image/jpeg;base64,{}\" img style=\"width:100%; height:100%;\">'.format\n",
        "    iframe = folium.IFrame(html(encoded), width=320, height=240)\n",
        "    popup = folium.Popup(iframe, max_width=320)\n",
        "    return popup\n",
        "\n",
        "# create new figure\n",
        "roads_and_cams_fig = Figure(height = 550, width = 750)\n",
        "\n",
        "# add map to figure\n",
        "roads_and_cams_map = folium.Map(location = [sg_lat, sg_lng],\n",
        "                tiles = None, zoom_start = 11,\n",
        "                min_zoom = 11, max_zoom = 16)\n",
        "roads_and_cams_fig.add_child(roads_and_cams_map)\n",
        "\n",
        "\n",
        "folium.TileLayer('cartodbpositron', name='Road Categories').add_to(roads_and_cams_map)\n",
        "\n",
        "# Creating feature groups\n",
        "for grp_name, df_grp in df_speedbands.groupby('RoadCategory'):\n",
        "    feature_group = folium.FeatureGroup(grp_name)\n",
        "    for row in df_grp.itertuples():\n",
        "        row=pd.DataFrame.from_records([row], columns=row._fields)\n",
        "\n",
        "\n",
        "        # Adding lines to the different feature groups\n",
        "        line_1 = folium.vector_layers.PolyLine(route(row),\n",
        "                                        popup = '<b>LinkID: </b>'+str(row.LinkID[0])+'<br><b>Road Category: </b>'+ row.RoadCategory[0] +'<br><b>Coordinates: </b>'+ row.Location[0],\n",
        "                                        tooltip = row.RoadName[0],\n",
        "                                        color = 'blue', weight = 2, opacity = 0.5).add_to(feature_group)          \n",
        "        # add ploylines to map\n",
        "        feature_group.add_to(roads_and_cams_map)\n",
        "\n",
        "\n",
        "for rowind in df_images.index:\n",
        "    folium.CircleMarker(location=[df_images[\"Latitude\"].iloc[rowind],df_images[\"Longitude\"].iloc[rowind]],\n",
        "                        radius=2,\n",
        "                        weight=5, tooltip= df_images[\"CameraID\"][rowind], popup = cam_img(rowind), opacity = 0.8).add_to(roads_and_cams_map)\n",
        "\n",
        "# add layer control to toggle layers\n",
        "folium.LayerControl().add_to(roads_and_cams_map)\n",
        "\n",
        "roads_and_cams_fig.save('roads_and_cams_fig.html')\n",
        "roads_and_cams_fig\n",
        "\n"
      ]
    }
  ],
  "metadata": {
    "colab": {
      "provenance": []
    },
    "kernelspec": {
      "display_name": "Python 3.9.10 64-bit",
      "language": "python",
      "name": "python3"
    },
    "language_info": {
      "codemirror_mode": {
        "name": "ipython",
        "version": 3
      },
      "file_extension": ".py",
      "mimetype": "text/x-python",
      "name": "python",
      "nbconvert_exporter": "python",
      "pygments_lexer": "ipython3",
      "version": "3.9.10"
    },
    "vscode": {
      "interpreter": {
        "hash": "aee8b7b246df8f9039afb4144a1f6fd8d2ca17a180786b69acc140d282b71a49"
      }
    }
  },
  "nbformat": 4,
  "nbformat_minor": 0
}
