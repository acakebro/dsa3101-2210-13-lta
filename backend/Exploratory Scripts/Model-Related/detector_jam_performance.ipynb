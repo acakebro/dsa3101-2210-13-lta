{
 "cells": [
  {
   "cell_type": "code",
   "execution_count": null,
   "metadata": {},
   "outputs": [],
   "source": [
    "import pandas as pd\n",
    "import numpy as np\n",
    "from math import sqrt"
   ]
  },
  {
   "cell_type": "code",
   "execution_count": null,
   "metadata": {},
   "outputs": [],
   "source": [
    "df = pd.read_csv(r\"C:\\Users\\renac\\Downloads\\NUS\\Y3S1\\DSA3101\\project\\vehicle_detector_accuracy.csv\")"
   ]
  },
  {
   "cell_type": "markdown",
   "metadata": {},
   "source": [
    "### RMSE (with checkpoint cameras)"
   ]
  },
  {
   "cell_type": "code",
   "execution_count": null,
   "metadata": {},
   "outputs": [],
   "source": [
    "test = df[\"Vehicle_Count\"]\n",
    "actual = df[\"True_Vehicle_Count\"]\n",
    "RMSE_checkpoint = sqrt(np.square(np.subtract(actual,test)).mean())"
   ]
  },
  {
   "cell_type": "markdown",
   "metadata": {},
   "source": [
    "### RMSE (without checkpoint cameras)"
   ]
  },
  {
   "cell_type": "code",
   "execution_count": null,
   "metadata": {},
   "outputs": [],
   "source": [
    "checkpoint_id = [2701, 2702, 4703, 4713]\n",
    "df1 = df[~df[\"Camera_Id\"].isin(checkpoint_id)]"
   ]
  },
  {
   "cell_type": "code",
   "execution_count": null,
   "metadata": {},
   "outputs": [],
   "source": [
    "test_1 = df1[\"Vehicle_Count\"]\n",
    "actual_1 = df1[\"True_Vehicle_Count\"]\n",
    "RMSE_no_checkpoint = sqrt(np.square(np.subtract(actual_1,test_1)).mean())"
   ]
  },
  {
   "cell_type": "code",
   "execution_count": null,
   "metadata": {},
   "outputs": [],
   "source": [
    "result_df = pd.DataFrame.from_dict({\"Data\": [\"no checkpoint cameras\", \"with checkpoint cameras\"], \"RMSE\": [RMSE_no_checkpoint, RMSE_checkpoint]})"
   ]
  },
  {
   "cell_type": "code",
   "execution_count": null,
   "metadata": {},
   "outputs": [],
   "source": [
    "result_df"
   ]
  },
  {
   "cell_type": "markdown",
   "metadata": {},
   "source": [
    "### Confusion Matrix (with checkpoint cameras)"
   ]
  },
  {
   "cell_type": "code",
   "execution_count": null,
   "metadata": {},
   "outputs": [],
   "source": [
    "from sklearn import metrics\n",
    "import matplotlib.pyplot as plt"
   ]
  },
  {
   "cell_type": "code",
   "execution_count": null,
   "metadata": {},
   "outputs": [],
   "source": [
    "test_jam = df[\"Jam\"]\n",
    "actual_jam = df[\"True_Traffic_Condition\"]"
   ]
  },
  {
   "cell_type": "code",
   "execution_count": null,
   "metadata": {},
   "outputs": [],
   "source": [
    "confusion_matrix = metrics.confusion_matrix(actual_jam, test_jam)\n",
    "cm_display = metrics.ConfusionMatrixDisplay(confusion_matrix = confusion_matrix, display_labels=[\"No Jam\", \"Jam\"])"
   ]
  },
  {
   "cell_type": "code",
   "execution_count": null,
   "metadata": {},
   "outputs": [],
   "source": [
    "cm_display.plot()\n",
    "plt.xlabel('Predicted Traffic Condition')\n",
    "plt.ylabel('True Traffic Condition')\n",
    "plt.title('Jam Confusion Matrix (with checkpoint cameras)')\n",
    "plt.show()\n",
    "# plt.savefig('jam_confusion_matrix.png')"
   ]
  },
  {
   "cell_type": "markdown",
   "metadata": {},
   "source": [
    "### Confusion Matrix (without checkpoint cameras)"
   ]
  },
  {
   "cell_type": "code",
   "execution_count": null,
   "metadata": {},
   "outputs": [],
   "source": [
    "test_jam_1 = df1[\"Jam\"]\n",
    "actual_jam_1 = df1[\"True_Traffic_Condition\"]"
   ]
  },
  {
   "cell_type": "code",
   "execution_count": null,
   "metadata": {},
   "outputs": [],
   "source": [
    "confusion_matrix_1 = metrics.confusion_matrix(actual_jam_1, test_jam_1)\n",
    "cm_display_1 = metrics.ConfusionMatrixDisplay(confusion_matrix = confusion_matrix_1, display_labels=[\"No Jam\", \"Jam\"])"
   ]
  },
  {
   "cell_type": "code",
   "execution_count": null,
   "metadata": {},
   "outputs": [],
   "source": [
    "cm_display_1.plot()\n",
    "plt.xlabel('Predicted Traffic Condition')\n",
    "plt.ylabel('True Traffic Condition')\n",
    "plt.title('Jam Confusion Matrix (without checkpoint cameras)')\n",
    "plt.show()\n",
    "# plt.savefig('jam_confusion_matrix.png')"
   ]
  }
 ],
 "metadata": {
  "kernelspec": {
   "display_name": "Python 3.10.6 64-bit",
   "language": "python",
   "name": "python3"
  },
  "language_info": {
   "codemirror_mode": {
    "name": "ipython",
    "version": 3
   },
   "file_extension": ".py",
   "mimetype": "text/x-python",
   "name": "python",
   "nbconvert_exporter": "python",
   "pygments_lexer": "ipython3",
   "version": "3.10.6"
  },
  "orig_nbformat": 4,
  "vscode": {
   "interpreter": {
    "hash": "05c181a2f892d70e2e4938953707a4601cdad30f805c5da25590eb6c9b5fe8b6"
   }
  }
 },
 "nbformat": 4,
 "nbformat_minor": 2
}
